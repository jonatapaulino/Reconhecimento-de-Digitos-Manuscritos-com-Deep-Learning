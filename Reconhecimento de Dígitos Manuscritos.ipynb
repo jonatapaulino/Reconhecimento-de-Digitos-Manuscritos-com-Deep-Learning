{
 "cells": [
  {
   "cell_type": "markdown",
   "metadata": {},
   "source": [
    "### Agora nosso objetivo é automatizar o reconhecimento de caracteres numéricos. <br><br> Para isso, usaremos uma técnica chamada Deep Learning (aprendizado profundo).<br><br>Atualmente, a biblioteca mais popular de Deep Learning é o Tensorflow, desenvolvido pelo Google\n",
    "Obs: Entender o funcionamento de uma rede neural é pré-requisito para entender esse algoritmo."
   ]
  },
  {
   "cell_type": "markdown",
   "metadata": {},
   "source": [
    "#### Começamos importando as bibliotecas necessárias:"
   ]
  },
  {
   "cell_type": "code",
   "execution_count": 1,
   "metadata": {},
   "outputs": [
    {
     "name": "stderr",
     "output_type": "stream",
     "text": [
      "C:\\Users\\lbour\\Anaconda3\\lib\\site-packages\\h5py\\__init__.py:34: FutureWarning: Conversion of the second argument of issubdtype from `float` to `np.floating` is deprecated. In future, it will be treated as `np.float64 == np.dtype(float).type`.\n",
      "  from ._conv import register_converters as _register_converters\n"
     ]
    }
   ],
   "source": [
    "import numpy as np\n",
    "import tensorflow as tf\n",
    "import matplotlib.pyplot as plt\n",
    "from tensorflow.examples.tutorials.mnist import input_data    \n",
    "%matplotlib inline"
   ]
  },
  {
   "cell_type": "markdown",
   "metadata": {},
   "source": [
    "Usaremos o famoso dataset MNIST que contém imagens digitalizadas de números manuscritos que serão usadas para treinar nosso modelo. <br>Um 'label' está associada  a cada imagem do dataset. Usaremos esse label ou etiqueta no formato 'one_hot' que poderia ser interpretada como<br> uma lista contendo a informação sobre qual número aquela \n",
    "imagem corresponde. <br>A lista contém 10 elementos, sendo 9 'zeros' e 1 'um'. O índice correspondente ao elemento 1\n",
    "é o dígito que está contido na imagem.<br>\n",
    "Exemplos:<br><center>\n",
    "    0   ==>   [1, 0, 0, 0, 0, 0, 0, 0, 0, 0]<br>\n",
    "    3   ==>   [0, 0, 0, 1, 0, 0, 0, 0, 0, 0]<br>\n",
    "    9   ==>   [0, 0, 0, 0, 0, 0, 0, 0, 0, 1]<br>"
   ]
  },
  {
   "cell_type": "code",
   "execution_count": 2,
   "metadata": {},
   "outputs": [
    {
     "name": "stdout",
     "output_type": "stream",
     "text": [
      "Extracting .\\train-images-idx3-ubyte.gz\n",
      "Extracting .\\train-labels-idx1-ubyte.gz\n",
      "Extracting .\\t10k-images-idx3-ubyte.gz\n",
      "Extracting .\\t10k-labels-idx1-ubyte.gz\n"
     ]
    }
   ],
   "source": [
    "mnist = input_data.read_data_sets(\".\", one_hot = True)"
   ]
  },
  {
   "cell_type": "markdown",
   "metadata": {},
   "source": [
    "#### Cada amostra de input é uma figura de 28x28 pixels com o desenho manuscrito de um dígito. Pegaremos um exemplo do dataset,  para fornecer uma amostra do input"
   ]
  },
  {
   "cell_type": "code",
   "execution_count": 3,
   "metadata": {},
   "outputs": [
    {
     "data": {
      "text/plain": [
       "<matplotlib.text.Text at 0x19aeca8c4e0>"
      ]
     },
     "execution_count": 3,
     "metadata": {},
     "output_type": "execute_result"
    },
    {
     "data": {
      "image/png": "[encoded data removed]",
      "text/plain": [
       "<matplotlib.figure.Figure at 0x19aeaa197f0>"
      ]
     },
     "metadata": {},
     "output_type": "display_data"
    }
   ],
   "source": [
    "exemplo = mnist.train.images[1].reshape(28,28)\n",
    "plt.imshow(exemplo, cmap='gray_r')\n",
    "plt.title('Label: {}'.format(np.argmax(mnist.train.labels[1])))"
   ]
  },
  {
   "cell_type": "markdown",
   "metadata": {},
   "source": [
    "#### Começamos a nos concentrar na elaboração do modelo. O primeiro passo é definir os parâmetros:"
   ]
  },
  {
   "cell_type": "code",
   "execution_count": 4,
   "metadata": {
    "collapsed": true
   },
   "outputs": [],
   "source": [
    "taxa_de_aprendizagem = .01   # velocidade com que o nosso algoritmo vai aprender, normalmente são usados valores baixos já que\n",
    "                             # faremos várias iterações no modelo. Valores altos frequentemente levam a piores resultados\n",
    "\n",
    "epocas = 200                 # quantidade de iterações\n",
    "lote = 100                   # dividimos nosso dataset em 'x' lotes para que nosso computador consiga dar conta do processamento\n",
    "exibicao = 10                # exibir informações a cada 'x' épocas\n",
    "\n",
    "n_input = 784                # tamanho do input: 28 * 28\n",
    "n_classes = 10               # número de classes possíveis: de 0 a 9\n",
    "\n",
    "n_camada_oculta = 256        # quantidade de neurônios da camada oculta"
   ]
  },
  {
   "cell_type": "markdown",
   "metadata": {},
   "source": [
    "#### Iniciamos pesos e viéses do modelo com valores aleatórios entre -1 e 1"
   ]
  },
  {
   "cell_type": "code",
   "execution_count": 5,
   "metadata": {
    "collapsed": true
   },
   "outputs": [],
   "source": [
    "pesos_camada_oculta = tf.Variable(tf.random_normal([n_input, n_camada_oculta]))\n",
    "pesos_output = tf.Variable(tf.random_normal([n_camada_oculta, n_classes]))\n",
    "\n",
    "vies_camada_oculta = tf.Variable(tf.random_normal([n_camada_oculta]))\n",
    "vies_output = tf.Variable(tf.random_normal([n_classes]))"
   ]
  },
  {
   "cell_type": "markdown",
   "metadata": {},
   "source": [
    "#### Placeholder é uma variável que iremos atribuir dado em algum momento posterior. Isso permite que possamos criar nossa operações e construir nosso grafo sem precisar dos dados a priori"
   ]
  },
  {
   "cell_type": "code",
   "execution_count": 10,
   "metadata": {
    "collapsed": true
   },
   "outputs": [],
   "source": [
    "x = tf.placeholder(tf.float32, [None, 784])\n",
    "y = tf.placeholder(tf.float32, [None, n_classes])"
   ]
  },
  {
   "cell_type": "markdown",
   "metadata": {},
   "source": [
    "Realizamos as operações necessárias e utilizamos a função de ativação Relu\n",
    "\n",
    "Relu é uma função que retorna 0 para valores negativos e o próprio valor para números não negativos. Exemplo:\n",
    "<code><center>\n",
    "def relu(x):\n",
    "    if x < 0:\n",
    "        return 0\n",
    "else:\n",
    "        return x"
   ]
  },
  {
   "cell_type": "code",
   "execution_count": 11,
   "metadata": {
    "collapsed": true
   },
   "outputs": [],
   "source": [
    "camada_oculta = tf.add(tf.matmul(x, pesos_camada_oculta), vies_camada_oculta)\n",
    "camada_oculta = tf.nn.relu(camada_oculta)\n",
    "\n",
    "logits = tf.add(tf.matmul(camada_oculta, pesos_output), vies_output)"
   ]
  },
  {
   "cell_type": "markdown",
   "metadata": {},
   "source": [
    "#### Definir a perda (ou custo) e o otimizador (Gradiente Descendente)"
   ]
  },
  {
   "cell_type": "code",
   "execution_count": 12,
   "metadata": {
    "collapsed": true
   },
   "outputs": [],
   "source": [
    "perda = tf.reduce_mean(tf.nn.softmax_cross_entropy_with_logits(logits=logits, labels=y))\n",
    "\n",
    "otimizador = tf.train.GradientDescentOptimizer(learning_rate=taxa_de_aprendizagem).minimize(perda)"
   ]
  },
  {
   "cell_type": "markdown",
   "metadata": {},
   "source": [
    "#### INICIAR A SESSÃO E CALCULAR A ACURÁCIA DAS NOSSA PREVIÇÕES\n"
   ]
  },
  {
   "cell_type": "code",
   "execution_count": 13,
   "metadata": {},
   "outputs": [
    {
     "name": "stdout",
     "output_type": "stream",
     "text": [
      "Época: 0001 custo= 5.352\n",
      "Época: 0011 custo= 2.775\n",
      "Época: 0021 custo= 2.158\n",
      "Época: 0031 custo= 1.287\n",
      "Época: 0041 custo= 0.218\n",
      "Época: 0051 custo= 0.591\n",
      "Época: 0061 custo= 0.311\n",
      "Época: 0071 custo= 0.142\n",
      "Época: 0081 custo= 0.518\n",
      "Época: 0091 custo= 0.006\n",
      "Época: 0101 custo= 0.009\n",
      "Época: 0111 custo= 0.011\n",
      "Época: 0121 custo= 0.658\n",
      "Época: 0131 custo= 0.006\n",
      "Época: 0141 custo= 0.075\n",
      "Época: 0151 custo= 0.109\n",
      "Época: 0161 custo= 0.011\n",
      "Época: 0171 custo= 0.003\n",
      "Época: 0181 custo= 0.009\n",
      "Época: 0191 custo= 0.023\n",
      "\n",
      " ACURÁCIA ==>   0.9375\n"
     ]
    }
   ],
   "source": [
    "init = tf.global_variables_initializer() # iniciailiza as variáveis globais\n",
    "\n",
    "\n",
    "with tf.Session() as sess:\n",
    "    sess.run(init)\n",
    "    \n",
    "    ### CICLOS DE TREINAMENTO\n",
    "    for epoca in range(epocas):\n",
    "        lote_total = int(mnist.train.num_examples/lote)\n",
    "        \n",
    "        for i in range(lote_total):\n",
    "            lote_x, lote_y = mnist.train.next_batch(lote)\n",
    "            \n",
    "            # Executar otimização e calcular perda\n",
    "            sess.run(otimizador, feed_dict={x: lote_x, y:lote_y})\n",
    "      \n",
    "        if epoca % exibicao == 0:\n",
    "            c = sess.run(perda, feed_dict={x: lote_x, y: lote_y})\n",
    "            print(\"Época:\", '%04d' % (epoca+1), \"custo=\", \\\n",
    "                \"{:.3f}\".format(c))\n",
    "            \n",
    "    ### TESTAR O MODELO\n",
    "    previsoes_corretas = tf.equal(tf.argmax(logits, 1), tf.argmax(y, 1))\n",
    "\n",
    "    ### CALCULAR ACURÁCIA\n",
    "    acuracia = tf.reduce_mean(tf.cast(previsoes_corretas, \"float\"))\n",
    "\n",
    "    test_size = 256\n",
    "    print(\"\\n ACURÁCIA ==>  \", acuracia.eval({x: mnist.test.images[:test_size], y: mnist.test.labels[:test_size]}))"
   ]
  },
  {
   "cell_type": "markdown",
   "metadata": {},
   "source": [
    "."
   ]
  },
  {
   "cell_type": "markdown",
   "metadata": {},
   "source": [
    "<b>FONTES: <br>\n",
    "    - https://www.tensorflow.org/get_started/mnist/beginners)\n",
    "    - https://www.oreilly.com/learning/not-another-mnist-tutorial-with-tensorflow\n"
   ]
  }
 ],
 "metadata": {
  "kernelspec": {
   "display_name": "Python 3",
   "language": "python",
   "name": "python3"
  },
  "language_info": {
   "codemirror_mode": {
    "name": "ipython",
    "version": 3
   },
   "file_extension": ".py",
   "mimetype": "text/x-python",
   "name": "python",
   "nbconvert_exporter": "python",
   "pygments_lexer": "ipython3",
   "version": "3.6.1"
  }
 },
 "nbformat": 4,
 "nbformat_minor": 2
}
